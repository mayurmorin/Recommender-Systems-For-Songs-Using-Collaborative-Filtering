{
 "cells": [
  {
   "cell_type": "markdown",
   "metadata": {},
   "source": [
    "# Song Recommender System\n",
    "Here we are Building the Song Recommender System, On Both Popularity Based Recommendation and Item Similarity Based Recommender System\n",
    "## Recommender Systems:\n",
    "###   --> Collabrative Recommender\n",
    "`Recommendes Based On Other Users Think`\n",
    "###   --> Content Based Recommender\n",
    "`Recommendes Based On Your Past Data`"
   ]
  },
  {
   "cell_type": "markdown",
   "metadata": {},
   "source": [
    "<hr>\n",
    "\n",
    "## Dataset User:\n",
    "#### Million Songs Dataset\n",
    "Source: http://labrosa.ee.columbia.edu/millionsong/ <br>\n",
    "Paper: http://ismir2011.ismir.net/papers/OS6-1.pdf <br>\n"
   ]
  },
  {
   "cell_type": "code",
   "execution_count": 57,
   "metadata": {},
   "outputs": [],
   "source": [
    "#Importing the Modules\n",
    "import pandas as pd\n",
    "from sklearn.model_selection import train_test_split\n",
    "import numpy as np\n",
    "import time\n",
    "import recommenders0001 as recommender\n",
    "%matplotlib inline"
   ]
  },
  {
   "cell_type": "markdown",
   "metadata": {},
   "source": [
    "## Loading the Song Dataset"
   ]
  },
  {
   "cell_type": "code",
   "execution_count": 2,
   "metadata": {},
   "outputs": [
    {
     "name": "stderr",
     "output_type": "stream",
     "text": [
      "/home/harsath/.local/lib/python3.6/site-packages/ipykernel_launcher.py:7: FutureWarning: read_table is deprecated, use read_csv instead.\n",
      "  import sys\n"
     ]
    }
   ],
   "source": [
    "#Downloading the Dataset from the Repository\n",
    "#https://static.turi.com/datasets/millionsong/10000.txt is the Source of User Data File\n",
    "user_song_metadata = \"song_data.csv\"\n",
    "triplets_file = \"https://static.turi.com/datasets/millionsong/10000.txt\"\n",
    "\n",
    "meta_file_cols = ['user_id','song_id','listen_count']\n",
    "song_meta_df = pd.read_table(triplets_file, header=None,sep='\\t')\n",
    "song_meta_df.columns = meta_file_cols\n",
    "\n",
    "user_song_data = pd.read_csv(user_song_metadata)\n",
    "#Mergin the Two Dataframes to form User ID and Song Co-occurance\n",
    "song_df = pd.merge(song_meta_df,user_song_data.drop_duplicates(['song_id']), on=\"song_id\",how=\"left\")"
   ]
  },
  {
   "cell_type": "code",
   "execution_count": 3,
   "metadata": {},
   "outputs": [
    {
     "data": {
      "text/html": [
       "<div>\n",
       "<style scoped>\n",
       "    .dataframe tbody tr th:only-of-type {\n",
       "        vertical-align: middle;\n",
       "    }\n",
       "\n",
       "    .dataframe tbody tr th {\n",
       "        vertical-align: top;\n",
       "    }\n",
       "\n",
       "    .dataframe thead th {\n",
       "        text-align: right;\n",
       "    }\n",
       "</style>\n",
       "<table border=\"1\" class=\"dataframe\">\n",
       "  <thead>\n",
       "    <tr style=\"text-align: right;\">\n",
       "      <th></th>\n",
       "      <th>user_id</th>\n",
       "      <th>song_id</th>\n",
       "      <th>listen_count</th>\n",
       "      <th>title</th>\n",
       "      <th>release</th>\n",
       "      <th>artist_name</th>\n",
       "      <th>year</th>\n",
       "    </tr>\n",
       "  </thead>\n",
       "  <tbody>\n",
       "    <tr>\n",
       "      <th>0</th>\n",
       "      <td>b80344d063b5ccb3212f76538f3d9e43d87dca9e</td>\n",
       "      <td>SOAKIMP12A8C130995</td>\n",
       "      <td>1</td>\n",
       "      <td>The Cove</td>\n",
       "      <td>Thicker Than Water</td>\n",
       "      <td>Jack Johnson</td>\n",
       "      <td>0</td>\n",
       "    </tr>\n",
       "    <tr>\n",
       "      <th>1</th>\n",
       "      <td>b80344d063b5ccb3212f76538f3d9e43d87dca9e</td>\n",
       "      <td>SOBBMDR12A8C13253B</td>\n",
       "      <td>2</td>\n",
       "      <td>Entre Dos Aguas</td>\n",
       "      <td>Flamenco Para Niños</td>\n",
       "      <td>Paco De Lucia</td>\n",
       "      <td>1976</td>\n",
       "    </tr>\n",
       "    <tr>\n",
       "      <th>2</th>\n",
       "      <td>b80344d063b5ccb3212f76538f3d9e43d87dca9e</td>\n",
       "      <td>SOBXHDL12A81C204C0</td>\n",
       "      <td>1</td>\n",
       "      <td>Stronger</td>\n",
       "      <td>Graduation</td>\n",
       "      <td>Kanye West</td>\n",
       "      <td>2007</td>\n",
       "    </tr>\n",
       "  </tbody>\n",
       "</table>\n",
       "</div>"
      ],
      "text/plain": [
       "                                    user_id             song_id  listen_count  \\\n",
       "0  b80344d063b5ccb3212f76538f3d9e43d87dca9e  SOAKIMP12A8C130995             1   \n",
       "1  b80344d063b5ccb3212f76538f3d9e43d87dca9e  SOBBMDR12A8C13253B             2   \n",
       "2  b80344d063b5ccb3212f76538f3d9e43d87dca9e  SOBXHDL12A81C204C0             1   \n",
       "\n",
       "             title              release    artist_name  year  \n",
       "0         The Cove   Thicker Than Water   Jack Johnson     0  \n",
       "1  Entre Dos Aguas  Flamenco Para Niños  Paco De Lucia  1976  \n",
       "2         Stronger           Graduation     Kanye West  2007  "
      ]
     },
     "execution_count": 3,
     "metadata": {},
     "output_type": "execute_result"
    }
   ],
   "source": [
    "song_df.head(3)"
   ]
  },
  {
   "cell_type": "code",
   "execution_count": 4,
   "metadata": {},
   "outputs": [
    {
     "name": "stdout",
     "output_type": "stream",
     "text": [
      "Length Of Total Dataset: 2000000\n"
     ]
    }
   ],
   "source": [
    "print(f\"Length Of Total Dataset: {len(song_df)}\")"
   ]
  },
  {
   "cell_type": "markdown",
   "metadata": {},
   "source": [
    "## Creating a Subset Of the Data(10,000)"
   ]
  },
  {
   "cell_type": "code",
   "execution_count": 5,
   "metadata": {},
   "outputs": [
    {
     "data": {
      "text/html": [
       "<div>\n",
       "<style scoped>\n",
       "    .dataframe tbody tr th:only-of-type {\n",
       "        vertical-align: middle;\n",
       "    }\n",
       "\n",
       "    .dataframe tbody tr th {\n",
       "        vertical-align: top;\n",
       "    }\n",
       "\n",
       "    .dataframe thead th {\n",
       "        text-align: right;\n",
       "    }\n",
       "</style>\n",
       "<table border=\"1\" class=\"dataframe\">\n",
       "  <thead>\n",
       "    <tr style=\"text-align: right;\">\n",
       "      <th></th>\n",
       "      <th>user_id</th>\n",
       "      <th>song_id</th>\n",
       "      <th>listen_count</th>\n",
       "      <th>title</th>\n",
       "      <th>release</th>\n",
       "      <th>artist_name</th>\n",
       "      <th>year</th>\n",
       "      <th>song</th>\n",
       "    </tr>\n",
       "  </thead>\n",
       "  <tbody>\n",
       "    <tr>\n",
       "      <th>0</th>\n",
       "      <td>b80344d063b5ccb3212f76538f3d9e43d87dca9e</td>\n",
       "      <td>SOAKIMP12A8C130995</td>\n",
       "      <td>1</td>\n",
       "      <td>The Cove</td>\n",
       "      <td>Thicker Than Water</td>\n",
       "      <td>Jack Johnson</td>\n",
       "      <td>0</td>\n",
       "      <td>The Cove - Jack Johnson</td>\n",
       "    </tr>\n",
       "  </tbody>\n",
       "</table>\n",
       "</div>"
      ],
      "text/plain": [
       "                                    user_id             song_id  listen_count  \\\n",
       "0  b80344d063b5ccb3212f76538f3d9e43d87dca9e  SOAKIMP12A8C130995             1   \n",
       "\n",
       "      title             release   artist_name  year                     song  \n",
       "0  The Cove  Thicker Than Water  Jack Johnson     0  The Cove - Jack Johnson  "
      ]
     },
     "execution_count": 5,
     "metadata": {},
     "output_type": "execute_result"
    }
   ],
   "source": [
    "song_df = song_df.head(10000)\n",
    "\n",
    "#Merging the Song Title and Artist Name Column\n",
    "song_df['song'] = song_df['title'] + \" - \" + song_df['artist_name']\n",
    "song_df.head(1)"
   ]
  },
  {
   "cell_type": "markdown",
   "metadata": {},
   "source": [
    "## Showing the Popular Songs in Dataset"
   ]
  },
  {
   "cell_type": "code",
   "execution_count": 6,
   "metadata": {},
   "outputs": [
    {
     "data": {
      "text/html": [
       "<div>\n",
       "<style scoped>\n",
       "    .dataframe tbody tr th:only-of-type {\n",
       "        vertical-align: middle;\n",
       "    }\n",
       "\n",
       "    .dataframe tbody tr th {\n",
       "        vertical-align: top;\n",
       "    }\n",
       "\n",
       "    .dataframe thead th {\n",
       "        text-align: right;\n",
       "    }\n",
       "</style>\n",
       "<table border=\"1\" class=\"dataframe\">\n",
       "  <thead>\n",
       "    <tr style=\"text-align: right;\">\n",
       "      <th></th>\n",
       "      <th>song</th>\n",
       "      <th>listen_count</th>\n",
       "      <th>percentage</th>\n",
       "    </tr>\n",
       "  </thead>\n",
       "  <tbody>\n",
       "    <tr>\n",
       "      <th>0</th>\n",
       "      <td>#40 - DAVE MATTHEWS BAND</td>\n",
       "      <td>1</td>\n",
       "      <td>0.01</td>\n",
       "    </tr>\n",
       "    <tr>\n",
       "      <th>1</th>\n",
       "      <td>&amp; Down - Boys Noize</td>\n",
       "      <td>4</td>\n",
       "      <td>0.04</td>\n",
       "    </tr>\n",
       "    <tr>\n",
       "      <th>2</th>\n",
       "      <td>'97 Bonnie &amp; Clyde - Eminem</td>\n",
       "      <td>2</td>\n",
       "      <td>0.02</td>\n",
       "    </tr>\n",
       "  </tbody>\n",
       "</table>\n",
       "</div>"
      ],
      "text/plain": [
       "                          song  listen_count  percentage\n",
       "0     #40 - DAVE MATTHEWS BAND             1        0.01\n",
       "1          & Down - Boys Noize             4        0.04\n",
       "2  '97 Bonnie & Clyde - Eminem             2        0.02"
      ]
     },
     "execution_count": 6,
     "metadata": {},
     "output_type": "execute_result"
    }
   ],
   "source": [
    "#Creating the Count For Each Unique Song for User ID's(Listen Count)\n",
    "song_counter = song_df.groupby(['song']).agg({'listen_count':'count'}).reset_index()\n",
    "total_song_listen = song_counter['listen_count'].sum()\n",
    "#Creating the Song Listen % (Describes it's Worth as a Whole)\n",
    "song_counter['percentage'] = (song_counter['listen_count'].div(total_song_listen))*100\n",
    "song_counter.head(3)"
   ]
  },
  {
   "cell_type": "code",
   "execution_count": 7,
   "metadata": {},
   "outputs": [
    {
     "data": {
      "text/html": [
       "<div>\n",
       "<style scoped>\n",
       "    .dataframe tbody tr th:only-of-type {\n",
       "        vertical-align: middle;\n",
       "    }\n",
       "\n",
       "    .dataframe tbody tr th {\n",
       "        vertical-align: top;\n",
       "    }\n",
       "\n",
       "    .dataframe thead th {\n",
       "        text-align: right;\n",
       "    }\n",
       "</style>\n",
       "<table border=\"1\" class=\"dataframe\">\n",
       "  <thead>\n",
       "    <tr style=\"text-align: right;\">\n",
       "      <th></th>\n",
       "      <th>song</th>\n",
       "      <th>listen_count</th>\n",
       "      <th>percentage</th>\n",
       "    </tr>\n",
       "  </thead>\n",
       "  <tbody>\n",
       "    <tr>\n",
       "      <th>3660</th>\n",
       "      <td>Sehr kosmisch - Harmonia</td>\n",
       "      <td>45</td>\n",
       "      <td>0.45</td>\n",
       "    </tr>\n",
       "  </tbody>\n",
       "</table>\n",
       "</div>"
      ],
      "text/plain": [
       "                          song  listen_count  percentage\n",
       "3660  Sehr kosmisch - Harmonia            45        0.45"
      ]
     },
     "execution_count": 7,
     "metadata": {},
     "output_type": "execute_result"
    }
   ],
   "source": [
    "#The Maximum Rated Song on the Subset:\n",
    "song_counter[song_counter.percentage == song_counter['percentage'].max()]"
   ]
  },
  {
   "cell_type": "markdown",
   "metadata": {},
   "source": [
    "###  The Uniqueness from the Dataset"
   ]
  },
  {
   "cell_type": "code",
   "execution_count": 8,
   "metadata": {},
   "outputs": [
    {
     "name": "stdout",
     "output_type": "stream",
     "text": [
      "No of Unique Users in Dataset: 365\n",
      "No Of Unique Songs in Dataset: 5151\n"
     ]
    }
   ],
   "source": [
    "print(f\"No of Unique Users in Dataset: {len(song_df['user_id'].unique())}\")\n",
    "print(f\"No Of Unique Songs in Dataset: {len(song_df['song'].unique())}\")      "
   ]
  },
  {
   "cell_type": "markdown",
   "metadata": {},
   "source": [
    "## Getting Into Recommendation"
   ]
  },
  {
   "cell_type": "code",
   "execution_count": 9,
   "metadata": {},
   "outputs": [
    {
     "data": {
      "text/html": [
       "<div>\n",
       "<style scoped>\n",
       "    .dataframe tbody tr th:only-of-type {\n",
       "        vertical-align: middle;\n",
       "    }\n",
       "\n",
       "    .dataframe tbody tr th {\n",
       "        vertical-align: top;\n",
       "    }\n",
       "\n",
       "    .dataframe thead th {\n",
       "        text-align: right;\n",
       "    }\n",
       "</style>\n",
       "<table border=\"1\" class=\"dataframe\">\n",
       "  <thead>\n",
       "    <tr style=\"text-align: right;\">\n",
       "      <th></th>\n",
       "      <th>user_id</th>\n",
       "      <th>song_id</th>\n",
       "      <th>listen_count</th>\n",
       "      <th>title</th>\n",
       "      <th>release</th>\n",
       "      <th>artist_name</th>\n",
       "      <th>year</th>\n",
       "      <th>song</th>\n",
       "    </tr>\n",
       "  </thead>\n",
       "  <tbody>\n",
       "    <tr>\n",
       "      <th>9254</th>\n",
       "      <td>22d652f8891ba2186a4ce3ee8de7c192148108ef</td>\n",
       "      <td>SOWRMTT12A8C137064</td>\n",
       "      <td>1</td>\n",
       "      <td>Milk</td>\n",
       "      <td>Aha Shake Heartbreak</td>\n",
       "      <td>Kings Of Leon</td>\n",
       "      <td>2004</td>\n",
       "      <td>Milk - Kings Of Leon</td>\n",
       "    </tr>\n",
       "  </tbody>\n",
       "</table>\n",
       "</div>"
      ],
      "text/plain": [
       "                                       user_id             song_id  \\\n",
       "9254  22d652f8891ba2186a4ce3ee8de7c192148108ef  SOWRMTT12A8C137064   \n",
       "\n",
       "      listen_count title               release    artist_name  year  \\\n",
       "9254             1  Milk  Aha Shake Heartbreak  Kings Of Leon  2004   \n",
       "\n",
       "                      song  \n",
       "9254  Milk - Kings Of Leon  "
      ]
     },
     "execution_count": 9,
     "metadata": {},
     "output_type": "execute_result"
    }
   ],
   "source": [
    "#First Let's Seperate the Dataset Into Testing and Training Set:\n",
    "training_data, testing_data = train_test_split(song_df,test_size=0.20,random_state=42)\n",
    "training_data.head(1)"
   ]
  },
  {
   "cell_type": "markdown",
   "metadata": {},
   "source": [
    "## Let't Try Using Popularity Based Recommender\n",
    "Popularity Based Recommendor is a Type of Collaborative Filtering Technique. It is a Type of Recommender System which Basically <b>Works with Trend(Current).</b> It Produces Same Resuly for Each Unique Users.\n",
    "<br><br>\n",
    "<b>But Collabrative Filtering Have Two Main CONS:<br><b>\n",
    "<tab><b><i>1.Data Sparsity <br> 2.Computationally Expensive</b></i><br>\n",
    "<img src=\"colabfil.png\" /> \n",
    "<br>\n",
    "    <center>\n",
    "    Source from <i><b>GroupLens Research Group/Army HPC Research Center <br></i></b>\n",
    "        </center>\n",
    "    <center>\n",
    "        Appears in WWW10, May 1-5, 2001, Hong Kong.\n",
    "    </center>"
   ]
  },
  {
   "cell_type": "code",
   "execution_count": 62,
   "metadata": {},
   "outputs": [],
   "source": [
    "#We have Coded the Model for Popularity Based Recommender in Seperate Python File\n",
    "#Creating an Instance of the Pop-Recommender Model\n",
    "popularity_based_recommendor = recommender.popularity_recommender_py()\n",
    "popularity_based_recommendor.create(training_data,'user_id','song')"
   ]
  },
  {
   "cell_type": "code",
   "execution_count": 63,
   "metadata": {},
   "outputs": [
    {
     "name": "stdout",
     "output_type": "stream",
     "text": [
      "User DF is <class 'numpy.ndarray'>\n"
     ]
    }
   ],
   "source": [
    "#Dataframe for Unique Users:\n",
    "Users = song_df['user_id'].unique()\n",
    "print(f'User DF is {type(Users)}')"
   ]
  },
  {
   "cell_type": "markdown",
   "metadata": {},
   "source": [
    "## Using Popularity Based Model for Predicting the Recommendations for Users"
   ]
  },
  {
   "cell_type": "code",
   "execution_count": 64,
   "metadata": {
    "scrolled": false
   },
   "outputs": [
    {
     "data": {
      "text/html": [
       "<div>\n",
       "<style scoped>\n",
       "    .dataframe tbody tr th:only-of-type {\n",
       "        vertical-align: middle;\n",
       "    }\n",
       "\n",
       "    .dataframe tbody tr th {\n",
       "        vertical-align: top;\n",
       "    }\n",
       "\n",
       "    .dataframe thead th {\n",
       "        text-align: right;\n",
       "    }\n",
       "</style>\n",
       "<table border=\"1\" class=\"dataframe\">\n",
       "  <thead>\n",
       "    <tr style=\"text-align: right;\">\n",
       "      <th></th>\n",
       "      <th>user_id</th>\n",
       "      <th>song</th>\n",
       "      <th>score</th>\n",
       "      <th>Rank</th>\n",
       "    </tr>\n",
       "  </thead>\n",
       "  <tbody>\n",
       "    <tr>\n",
       "      <th>3213</th>\n",
       "      <td>930d2be6c85315d72cab9823ec0f7bfe7e477794</td>\n",
       "      <td>Sehr kosmisch - Harmonia</td>\n",
       "      <td>32</td>\n",
       "      <td>1.0</td>\n",
       "    </tr>\n",
       "    <tr>\n",
       "      <th>930</th>\n",
       "      <td>930d2be6c85315d72cab9823ec0f7bfe7e477794</td>\n",
       "      <td>Dog Days Are Over (Radio Edit) - Florence + Th...</td>\n",
       "      <td>25</td>\n",
       "      <td>2.0</td>\n",
       "    </tr>\n",
       "    <tr>\n",
       "      <th>3839</th>\n",
       "      <td>930d2be6c85315d72cab9823ec0f7bfe7e477794</td>\n",
       "      <td>The Scientist - Coldplay</td>\n",
       "      <td>23</td>\n",
       "      <td>3.0</td>\n",
       "    </tr>\n",
       "    <tr>\n",
       "      <th>4136</th>\n",
       "      <td>930d2be6c85315d72cab9823ec0f7bfe7e477794</td>\n",
       "      <td>Use Somebody - Kings Of Leon</td>\n",
       "      <td>23</td>\n",
       "      <td>4.0</td>\n",
       "    </tr>\n",
       "    <tr>\n",
       "      <th>3209</th>\n",
       "      <td>930d2be6c85315d72cab9823ec0f7bfe7e477794</td>\n",
       "      <td>Secrets - OneRepublic</td>\n",
       "      <td>22</td>\n",
       "      <td>5.0</td>\n",
       "    </tr>\n",
       "    <tr>\n",
       "      <th>4104</th>\n",
       "      <td>930d2be6c85315d72cab9823ec0f7bfe7e477794</td>\n",
       "      <td>Undo - Björk</td>\n",
       "      <td>22</td>\n",
       "      <td>6.0</td>\n",
       "    </tr>\n",
       "    <tr>\n",
       "      <th>4489</th>\n",
       "      <td>930d2be6c85315d72cab9823ec0f7bfe7e477794</td>\n",
       "      <td>You're The One - Dwight Yoakam</td>\n",
       "      <td>21</td>\n",
       "      <td>7.0</td>\n",
       "    </tr>\n",
       "    <tr>\n",
       "      <th>3054</th>\n",
       "      <td>930d2be6c85315d72cab9823ec0f7bfe7e477794</td>\n",
       "      <td>Revelry - Kings Of Leon</td>\n",
       "      <td>20</td>\n",
       "      <td>8.0</td>\n",
       "    </tr>\n",
       "    <tr>\n",
       "      <th>4421</th>\n",
       "      <td>930d2be6c85315d72cab9823ec0f7bfe7e477794</td>\n",
       "      <td>Yellow - Coldplay</td>\n",
       "      <td>19</td>\n",
       "      <td>9.0</td>\n",
       "    </tr>\n",
       "    <tr>\n",
       "      <th>707</th>\n",
       "      <td>930d2be6c85315d72cab9823ec0f7bfe7e477794</td>\n",
       "      <td>Clocks - Coldplay</td>\n",
       "      <td>18</td>\n",
       "      <td>10.0</td>\n",
       "    </tr>\n",
       "  </tbody>\n",
       "</table>\n",
       "</div>"
      ],
      "text/plain": [
       "                                       user_id  \\\n",
       "3213  930d2be6c85315d72cab9823ec0f7bfe7e477794   \n",
       "930   930d2be6c85315d72cab9823ec0f7bfe7e477794   \n",
       "3839  930d2be6c85315d72cab9823ec0f7bfe7e477794   \n",
       "4136  930d2be6c85315d72cab9823ec0f7bfe7e477794   \n",
       "3209  930d2be6c85315d72cab9823ec0f7bfe7e477794   \n",
       "4104  930d2be6c85315d72cab9823ec0f7bfe7e477794   \n",
       "4489  930d2be6c85315d72cab9823ec0f7bfe7e477794   \n",
       "3054  930d2be6c85315d72cab9823ec0f7bfe7e477794   \n",
       "4421  930d2be6c85315d72cab9823ec0f7bfe7e477794   \n",
       "707   930d2be6c85315d72cab9823ec0f7bfe7e477794   \n",
       "\n",
       "                                                   song  score  Rank  \n",
       "3213                           Sehr kosmisch - Harmonia     32   1.0  \n",
       "930   Dog Days Are Over (Radio Edit) - Florence + Th...     25   2.0  \n",
       "3839                           The Scientist - Coldplay     23   3.0  \n",
       "4136                       Use Somebody - Kings Of Leon     23   4.0  \n",
       "3209                              Secrets - OneRepublic     22   5.0  \n",
       "4104                                       Undo - Björk     22   6.0  \n",
       "4489                     You're The One - Dwight Yoakam     21   7.0  \n",
       "3054                            Revelry - Kings Of Leon     20   8.0  \n",
       "4421                                  Yellow - Coldplay     19   9.0  \n",
       "707                                   Clocks - Coldplay     18  10.0  "
      ]
     },
     "execution_count": 64,
     "metadata": {},
     "output_type": "execute_result"
    }
   ],
   "source": [
    "#Getting the Top 10 Recommended Songs for the User based on the Popularity\n",
    "user_id1 = Users[45]\n",
    "popularity_based_recommendor.recommend(user_id1)"
   ]
  },
  {
   "cell_type": "markdown",
   "metadata": {},
   "source": [
    "# Item Based Similarity Recommender\n",
    "## -->Personalized Systems Indented for Individuals\n",
    "### Item Based Similarity is a Type of Content-Based Filtering. Instred of Looking for people who are Similar to You(User Based Collaborative Filtering), It looks for Things You Like and Recommend Things that are Similar to those Stuff\n",
    "<img src=\"item_based_sim.png\" />\n",
    "<br>\n",
    "    <center>\n",
    "    Source from <i><b>GroupLens Research Group/Army HPC Research Center <br></i></b>\n",
    "        </center>\n",
    "    <center>\n",
    "        Appears in WWW10, May 1-5, 2001, Hong Kong.\n",
    "    </center>"
   ]
  },
  {
   "cell_type": "markdown",
   "metadata": {},
   "source": [
    "### Here We are creating User Item Co-Occurence Matrix, Which is an Array Of the Users and Their Ratings to the Songs.Consider this Link for Knowing the Term Co-Occurence Matrix:\n",
    "https://learnforeverlearn.com/cooccurrence/ \n",
    "<hr>\n"
   ]
  },
  {
   "cell_type": "code",
   "execution_count": 33,
   "metadata": {},
   "outputs": [],
   "source": [
    "#Recommenders.item_similarity_recommender_py(Method for Item Based Recommendation)"
   ]
  },
  {
   "cell_type": "code",
   "execution_count": 59,
   "metadata": {},
   "outputs": [],
   "source": [
    "per_r_model = recommender.item_similarity_recommender_py()\n",
    "per_r_model.create(training_data, 'user_id', \"song\")"
   ]
  },
  {
   "cell_type": "markdown",
   "metadata": {},
   "source": [
    "## Generating Song Recommendation Using Personalized Model"
   ]
  },
  {
   "cell_type": "code",
   "execution_count": 61,
   "metadata": {},
   "outputs": [
    {
     "name": "stdout",
     "output_type": "stream",
     "text": [
      "------------------------------------------------------------------------------------\n",
      "Training data songs for the user userid: 969cc6fb74e076a68e36a04409cb9d3765757508\n",
      "------------------------------------------------------------------------------------\n",
      "Mr. Jones - Counting Crows\n",
      "Who's Real - Jadakiss / Swizz Beatz / OJ Da Juiceman\n",
      "We Don't Stop (Explicit) - Young Bleed\n",
      "Besame Mucho - Andrea Bocelli\n",
      "Found Home - 59 Times the Pain\n",
      "A Pain That I\u0019m Used To - Depeche Mode\n",
      "The Waiting - Tom Petty And The Heartbreakers\n",
      "You Get What You Give - New Radicals\n",
      "Medicating - Boys Night Out\n",
      "It's My Party - Lesley Gore\n",
      "Reasons - Minnie Riperton\n",
      "Groovin'  (LP Version) - Booker T. & The MG's\n",
      "Groovin'  (Single Version) - The Young Rascals\n",
      "Heartbreak Warfare - John Mayer\n",
      "Jamaica Roots II(Agora E Sempre) - Natiruts\n",
      "All My Friends - LCD Soundsystem\n",
      "Eminence Front - The Who\n",
      "----------------------------------------------------------------------\n",
      "Recommendation process going on:\n",
      "----------------------------------------------------------------------\n",
      "No. of unique songs for the user: 17\n",
      "no. of unique songs in the training set: 4528\n",
      "Non zero values in cooccurence_matrix :1857\n"
     ]
    },
    {
     "data": {
      "text/html": [
       "<div>\n",
       "<style scoped>\n",
       "    .dataframe tbody tr th:only-of-type {\n",
       "        vertical-align: middle;\n",
       "    }\n",
       "\n",
       "    .dataframe tbody tr th {\n",
       "        vertical-align: top;\n",
       "    }\n",
       "\n",
       "    .dataframe thead th {\n",
       "        text-align: right;\n",
       "    }\n",
       "</style>\n",
       "<table border=\"1\" class=\"dataframe\">\n",
       "  <thead>\n",
       "    <tr style=\"text-align: right;\">\n",
       "      <th></th>\n",
       "      <th>user_id</th>\n",
       "      <th>song</th>\n",
       "      <th>score</th>\n",
       "      <th>rank</th>\n",
       "    </tr>\n",
       "  </thead>\n",
       "  <tbody>\n",
       "    <tr>\n",
       "      <th>0</th>\n",
       "      <td>969cc6fb74e076a68e36a04409cb9d3765757508</td>\n",
       "      <td>Kiss Off - Violent Femmes</td>\n",
       "      <td>0.049020</td>\n",
       "      <td>1</td>\n",
       "    </tr>\n",
       "    <tr>\n",
       "      <th>1</th>\n",
       "      <td>969cc6fb74e076a68e36a04409cb9d3765757508</td>\n",
       "      <td>Rule Of Thumb (Album Version) - John Scofield</td>\n",
       "      <td>0.046078</td>\n",
       "      <td>2</td>\n",
       "    </tr>\n",
       "    <tr>\n",
       "      <th>2</th>\n",
       "      <td>969cc6fb74e076a68e36a04409cb9d3765757508</td>\n",
       "      <td>Bones - The Killers</td>\n",
       "      <td>0.044118</td>\n",
       "      <td>3</td>\n",
       "    </tr>\n",
       "    <tr>\n",
       "      <th>3</th>\n",
       "      <td>969cc6fb74e076a68e36a04409cb9d3765757508</td>\n",
       "      <td>Sam's Town - The Killers</td>\n",
       "      <td>0.044118</td>\n",
       "      <td>4</td>\n",
       "    </tr>\n",
       "    <tr>\n",
       "      <th>4</th>\n",
       "      <td>969cc6fb74e076a68e36a04409cb9d3765757508</td>\n",
       "      <td>Slow Hands - Interpol</td>\n",
       "      <td>0.044118</td>\n",
       "      <td>5</td>\n",
       "    </tr>\n",
       "    <tr>\n",
       "      <th>5</th>\n",
       "      <td>969cc6fb74e076a68e36a04409cb9d3765757508</td>\n",
       "      <td>Rock A My Soul - Pixies</td>\n",
       "      <td>0.044118</td>\n",
       "      <td>6</td>\n",
       "    </tr>\n",
       "    <tr>\n",
       "      <th>6</th>\n",
       "      <td>969cc6fb74e076a68e36a04409cb9d3765757508</td>\n",
       "      <td>Subbacultcha - Pixies</td>\n",
       "      <td>0.044118</td>\n",
       "      <td>7</td>\n",
       "    </tr>\n",
       "    <tr>\n",
       "      <th>7</th>\n",
       "      <td>969cc6fb74e076a68e36a04409cb9d3765757508</td>\n",
       "      <td>Girlfriend In A Coma - The Smiths</td>\n",
       "      <td>0.044118</td>\n",
       "      <td>8</td>\n",
       "    </tr>\n",
       "    <tr>\n",
       "      <th>8</th>\n",
       "      <td>969cc6fb74e076a68e36a04409cb9d3765757508</td>\n",
       "      <td>Neon Tiger - The Killers</td>\n",
       "      <td>0.044118</td>\n",
       "      <td>9</td>\n",
       "    </tr>\n",
       "    <tr>\n",
       "      <th>9</th>\n",
       "      <td>969cc6fb74e076a68e36a04409cb9d3765757508</td>\n",
       "      <td>All I Want - LCD Soundsystem</td>\n",
       "      <td>0.044118</td>\n",
       "      <td>10</td>\n",
       "    </tr>\n",
       "  </tbody>\n",
       "</table>\n",
       "</div>"
      ],
      "text/plain": [
       "                                    user_id  \\\n",
       "0  969cc6fb74e076a68e36a04409cb9d3765757508   \n",
       "1  969cc6fb74e076a68e36a04409cb9d3765757508   \n",
       "2  969cc6fb74e076a68e36a04409cb9d3765757508   \n",
       "3  969cc6fb74e076a68e36a04409cb9d3765757508   \n",
       "4  969cc6fb74e076a68e36a04409cb9d3765757508   \n",
       "5  969cc6fb74e076a68e36a04409cb9d3765757508   \n",
       "6  969cc6fb74e076a68e36a04409cb9d3765757508   \n",
       "7  969cc6fb74e076a68e36a04409cb9d3765757508   \n",
       "8  969cc6fb74e076a68e36a04409cb9d3765757508   \n",
       "9  969cc6fb74e076a68e36a04409cb9d3765757508   \n",
       "\n",
       "                                            song     score rank  \n",
       "0                      Kiss Off - Violent Femmes  0.049020    1  \n",
       "1  Rule Of Thumb (Album Version) - John Scofield  0.046078    2  \n",
       "2                            Bones - The Killers  0.044118    3  \n",
       "3                       Sam's Town - The Killers  0.044118    4  \n",
       "4                          Slow Hands - Interpol  0.044118    5  \n",
       "5                        Rock A My Soul - Pixies  0.044118    6  \n",
       "6                          Subbacultcha - Pixies  0.044118    7  \n",
       "7              Girlfriend In A Coma - The Smiths  0.044118    8  \n",
       "8                       Neon Tiger - The Killers  0.044118    9  \n",
       "9                   All I Want - LCD Soundsystem  0.044118   10  "
      ]
     },
     "execution_count": 61,
     "metadata": {},
     "output_type": "execute_result"
    }
   ],
   "source": [
    "user_id = Users[4]\n",
    "user_songs = per_r_model.get_user_items(user_id)\n",
    "\n",
    "print(\"------------------------------------------------------------------------------------\")\n",
    "print(f\"Training data songs for the user userid: {user_id}\")\n",
    "print(\"------------------------------------------------------------------------------------\")\n",
    "\n",
    "#Printing the User's Unique Songs:\n",
    "for songs in user_songs:\n",
    "    print(songs)\n",
    "    \n",
    "print(\"----------------------------------------------------------------------\")\n",
    "print(\"Recommendation process going on:\")\n",
    "print(\"----------------------------------------------------------------------\")\n",
    "per_r_model.recommend(user_id)"
   ]
  },
  {
   "cell_type": "markdown",
   "metadata": {},
   "source": [
    "## Getting Similar Songs for A Song:"
   ]
  },
  {
   "cell_type": "code",
   "execution_count": 65,
   "metadata": {},
   "outputs": [
    {
     "name": "stdout",
     "output_type": "stream",
     "text": [
      "no. of unique songs in the training set: 4528\n",
      "Non zero values in cooccurence_matrix :266\n"
     ]
    },
    {
     "data": {
      "text/html": [
       "<div>\n",
       "<style scoped>\n",
       "    .dataframe tbody tr th:only-of-type {\n",
       "        vertical-align: middle;\n",
       "    }\n",
       "\n",
       "    .dataframe tbody tr th {\n",
       "        vertical-align: top;\n",
       "    }\n",
       "\n",
       "    .dataframe thead th {\n",
       "        text-align: right;\n",
       "    }\n",
       "</style>\n",
       "<table border=\"1\" class=\"dataframe\">\n",
       "  <thead>\n",
       "    <tr style=\"text-align: right;\">\n",
       "      <th></th>\n",
       "      <th>user_id</th>\n",
       "      <th>song</th>\n",
       "      <th>score</th>\n",
       "      <th>rank</th>\n",
       "    </tr>\n",
       "  </thead>\n",
       "  <tbody>\n",
       "    <tr>\n",
       "      <th>0</th>\n",
       "      <td></td>\n",
       "      <td>Teach Me How To Dougie - California Swag District</td>\n",
       "      <td>0.625000</td>\n",
       "      <td>1</td>\n",
       "    </tr>\n",
       "    <tr>\n",
       "      <th>1</th>\n",
       "      <td></td>\n",
       "      <td>Somebody To Love - Justin Bieber</td>\n",
       "      <td>0.375000</td>\n",
       "      <td>2</td>\n",
       "    </tr>\n",
       "    <tr>\n",
       "      <th>2</th>\n",
       "      <td></td>\n",
       "      <td>Bad Company - Five Finger Death Punch</td>\n",
       "      <td>0.375000</td>\n",
       "      <td>3</td>\n",
       "    </tr>\n",
       "    <tr>\n",
       "      <th>3</th>\n",
       "      <td></td>\n",
       "      <td>Stuck In The Moment - Justin Bieber</td>\n",
       "      <td>0.333333</td>\n",
       "      <td>4</td>\n",
       "    </tr>\n",
       "    <tr>\n",
       "      <th>4</th>\n",
       "      <td></td>\n",
       "      <td>Paper Planes - M.I.A.</td>\n",
       "      <td>0.333333</td>\n",
       "      <td>5</td>\n",
       "    </tr>\n",
       "    <tr>\n",
       "      <th>5</th>\n",
       "      <td></td>\n",
       "      <td>Eenie Meenie - Sean Kingston and Justin Bieber</td>\n",
       "      <td>0.333333</td>\n",
       "      <td>6</td>\n",
       "    </tr>\n",
       "    <tr>\n",
       "      <th>6</th>\n",
       "      <td></td>\n",
       "      <td>Heartbreak Warfare - John Mayer</td>\n",
       "      <td>0.300000</td>\n",
       "      <td>7</td>\n",
       "    </tr>\n",
       "    <tr>\n",
       "      <th>7</th>\n",
       "      <td></td>\n",
       "      <td>Savior - Rise Against</td>\n",
       "      <td>0.300000</td>\n",
       "      <td>8</td>\n",
       "    </tr>\n",
       "    <tr>\n",
       "      <th>8</th>\n",
       "      <td></td>\n",
       "      <td>Yeah! - Usher Featuring Lil' Jon &amp; Ludacris</td>\n",
       "      <td>0.285714</td>\n",
       "      <td>9</td>\n",
       "    </tr>\n",
       "    <tr>\n",
       "      <th>9</th>\n",
       "      <td></td>\n",
       "      <td>Hide &amp; Seek - Imogen Heap</td>\n",
       "      <td>0.285714</td>\n",
       "      <td>10</td>\n",
       "    </tr>\n",
       "  </tbody>\n",
       "</table>\n",
       "</div>"
      ],
      "text/plain": [
       "  user_id                                               song     score rank\n",
       "0          Teach Me How To Dougie - California Swag District  0.625000    1\n",
       "1                           Somebody To Love - Justin Bieber  0.375000    2\n",
       "2                      Bad Company - Five Finger Death Punch  0.375000    3\n",
       "3                        Stuck In The Moment - Justin Bieber  0.333333    4\n",
       "4                                      Paper Planes - M.I.A.  0.333333    5\n",
       "5             Eenie Meenie - Sean Kingston and Justin Bieber  0.333333    6\n",
       "6                            Heartbreak Warfare - John Mayer  0.300000    7\n",
       "7                                      Savior - Rise Against  0.300000    8\n",
       "8                Yeah! - Usher Featuring Lil' Jon & Ludacris  0.285714    9\n",
       "9                                  Hide & Seek - Imogen Heap  0.285714   10"
      ]
     },
     "execution_count": 65,
     "metadata": {},
     "output_type": "execute_result"
    }
   ],
   "source": [
    "per_r_model.get_similar_items(['U Smile - Justin Bieber'])"
   ]
  },
  {
   "cell_type": "markdown",
   "metadata": {},
   "source": [
    "## Now It's Time to Calculate the Precision and Recall\n",
    "### F1 Score is the Harmonic Mean of the Precision and Recall\n",
    "<img src=\"f1.png\" />\n",
    "<br>\n",
    "==> Precision is the percentage of the Your Results which are correct<br><br>\n",
    "==> Recall refers to the Total Relevent results correctly Classified by Your Algorithm"
   ]
  },
  {
   "cell_type": "code",
   "execution_count": 69,
   "metadata": {},
   "outputs": [
    {
     "name": "stdout",
     "output_type": "stream",
     "text": [
      "Length of user_test_and_training:320\n",
      "Length of user sample:16\n",
      "Getting recommendations for user:3851d01aa9d1b2505fa361b63940e8cdc9a3e754\n",
      "No. of unique songs for the user: 19\n",
      "no. of unique songs in the training set: 4528\n",
      "Non zero values in cooccurence_matrix :3099\n",
      "Getting recommendations for user:96e72774fb758108c78d91c110e78133c9ded266\n",
      "No. of unique songs for the user: 6\n",
      "no. of unique songs in the training set: 4528\n",
      "Non zero values in cooccurence_matrix :357\n",
      "Getting recommendations for user:17aa9f6dbdf753831da8f38c71b66b64373de613\n",
      "No. of unique songs for the user: 83\n",
      "no. of unique songs in the training set: 4528\n",
      "Non zero values in cooccurence_matrix :13485\n",
      "Getting recommendations for user:ea64e003562d2f0f39e5a7dd84af5b1969e0fea3\n",
      "No. of unique songs for the user: 14\n",
      "no. of unique songs in the training set: 4528\n",
      "Non zero values in cooccurence_matrix :1609\n",
      "Getting recommendations for user:3187e658fd71be99d68d96f3a61a436c8a607365\n",
      "No. of unique songs for the user: 21\n",
      "no. of unique songs in the training set: 4528\n",
      "Non zero values in cooccurence_matrix :975\n",
      "Getting recommendations for user:51182330ee3e55d808df31a951032692c5cefe8a\n",
      "No. of unique songs for the user: 19\n",
      "no. of unique songs in the training set: 4528\n",
      "Non zero values in cooccurence_matrix :2039\n",
      "Getting recommendations for user:3ff7a31452eeabd7a4e07f0d243c674e3d0adf46\n",
      "No. of unique songs for the user: 46\n",
      "no. of unique songs in the training set: 4528\n",
      "Non zero values in cooccurence_matrix :6836\n",
      "Getting recommendations for user:951945330eb5df161ac4f97729647514001cd102\n",
      "No. of unique songs for the user: 10\n",
      "no. of unique songs in the training set: 4528\n",
      "Non zero values in cooccurence_matrix :614\n",
      "Getting recommendations for user:1fdf267d8e81db0bb69093460fdab8254e69a2de\n",
      "No. of unique songs for the user: 3\n",
      "no. of unique songs in the training set: 4528\n",
      "Non zero values in cooccurence_matrix :104\n",
      "Getting recommendations for user:f28f980d8842ebfaa31e8fb3939aace4a43a18ec\n",
      "No. of unique songs for the user: 17\n",
      "no. of unique songs in the training set: 4528\n",
      "Non zero values in cooccurence_matrix :1002\n",
      "Getting recommendations for user:4208d4ac45e7caab7167a4ea6d34e759a6b9a1fc\n",
      "No. of unique songs for the user: 34\n",
      "no. of unique songs in the training set: 4528\n",
      "Non zero values in cooccurence_matrix :8016\n",
      "Getting recommendations for user:93daed66184da1bf172e853c537f72ec93294fab\n",
      "No. of unique songs for the user: 7\n",
      "no. of unique songs in the training set: 4528\n",
      "Non zero values in cooccurence_matrix :382\n",
      "Getting recommendations for user:95942345306393998eb3a051ae5fa3c4d5afbaa4\n",
      "No. of unique songs for the user: 69\n",
      "no. of unique songs in the training set: 4528\n",
      "Non zero values in cooccurence_matrix :8486\n",
      "Getting recommendations for user:c1fc436b58e28b3e3f1b43a4e955baa19d8a69ba\n",
      "No. of unique songs for the user: 11\n",
      "no. of unique songs in the training set: 4528\n",
      "Non zero values in cooccurence_matrix :1353\n",
      "Getting recommendations for user:249e86c60ec6fce5c8588d51fd94e85dd47ecff7\n",
      "No. of unique songs for the user: 6\n",
      "no. of unique songs in the training set: 4528\n",
      "Non zero values in cooccurence_matrix :162\n",
      "Getting recommendations for user:ebb3d26d2662c42f6304f883c150ebdb2fb05042\n",
      "No. of unique songs for the user: 9\n",
      "no. of unique songs in the training set: 4528\n",
      "Non zero values in cooccurence_matrix :1217\n",
      "176.97256231307983\n"
     ]
    }
   ],
   "source": [
    "import Evaluation\n",
    "start = time.time()\n",
    "\n",
    "#Define what percentage of users to use for precision recall calculation\n",
    "user_sample = 0.05\n",
    "\n",
    "#Instantiate the precision_recall_calculator class\n",
    "pr = Evaluation.precision_recall_calculator(testing_data, training_data, popularity_based_recommendor, per_r_model)\n",
    "\n",
    "#Call method to calculate precision and recall values\n",
    "(pm_avg_precision_list, pm_avg_recall_list, ism_avg_precision_list, ism_avg_recall_list) = pr.calculate_measures(user_sample)\n",
    "\n",
    "end = time.time()\n",
    "print(end - start)"
   ]
  },
  {
   "cell_type": "code",
   "execution_count": 76,
   "metadata": {},
   "outputs": [],
   "source": [
    "import pylab as pl\n",
    "\n",
    "#Method to generate precision and recall curve\n",
    "def plot_precision_recall(m1_precision_list, m1_recall_list, m1_label, m2_precision_list, m2_recall_list, m2_label):\n",
    "    pl.clf()    \n",
    "    pl.plot(m1_recall_list, m1_precision_list, label=m1_label)\n",
    "    pl.plot(m2_recall_list, m2_precision_list, label=m2_label)\n",
    "    pl.xlabel('Recall')\n",
    "    pl.ylabel('Precision')\n",
    "    pl.ylim([0.0, 0.20])\n",
    "    pl.xlim([0.0, 0.20])\n",
    "    pl.title('Precision-Recall curve')\n",
    "    #pl.legend(loc=\"upper right\")\n",
    "    pl.legend(loc=9, bbox_to_anchor=(0.5, -0.2))\n",
    "    pl.show()\n"
   ]
  },
  {
   "cell_type": "code",
   "execution_count": 77,
   "metadata": {},
   "outputs": [
    {
     "name": "stdout",
     "output_type": "stream",
     "text": [
      "Plotting precision recall curves.\n"
     ]
    },
    {
     "data": {
      "image/png": "[encoded data removed]",
      "text/plain": [
       "<Figure size 432x288 with 1 Axes>"
      ]
     },
     "metadata": {
      "needs_background": "light"
     },
     "output_type": "display_data"
    }
   ],
   "source": [
    "print(\"Plotting precision recall curves.\")\n",
    "\n",
    "plot_precision_recall(pm_avg_precision_list, pm_avg_recall_list, \"popularity_model\",\n",
    "                      ism_avg_precision_list, ism_avg_recall_list, \"item_similarity_model\")\n"
   ]
  },
  {
   "cell_type": "code",
   "execution_count": null,
   "metadata": {},
   "outputs": [],
   "source": []
  }
 ],
 "metadata": {
  "kernelspec": {
   "display_name": "Python 3",
   "language": "python",
   "name": "python3"
  },
  "language_info": {
   "codemirror_mode": {
    "name": "ipython",
    "version": 3
   },
   "file_extension": ".py",
   "mimetype": "text/x-python",
   "name": "python",
   "nbconvert_exporter": "python",
   "pygments_lexer": "ipython3",
   "version": "3.6.7"
  }
 },
 "nbformat": 4,
 "nbformat_minor": 2
}
